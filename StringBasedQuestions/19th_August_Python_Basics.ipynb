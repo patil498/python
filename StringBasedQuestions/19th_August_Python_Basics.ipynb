{
 "cells": [
  {
   "cell_type": "code",
   "execution_count": 2,
   "id": "fa2589fa-1999-493f-b9e8-2151c148f2a0",
   "metadata": {},
   "outputs": [
    {
     "name": "stdout",
     "output_type": "stream",
     "text": [
      "After swapping:\n",
      "x = 4\n",
      "y = 2\n"
     ]
    }
   ],
   "source": [
    "# creating a two variables \n",
    "x = 2\n",
    "y = 4\n",
    "\n",
    "x, y = y, x\n",
    "\n",
    "print(\"After swapping:\")\n",
    "print(\"x =\", x)\n",
    "print(\"y =\", y)"
   ]
  },
  {
   "cell_type": "code",
   "execution_count": 3,
   "id": "cb2d2ad0-80ef-4266-9d1f-db7dd28a9737",
   "metadata": {},
   "outputs": [
    {
     "name": "stdin",
     "output_type": "stream",
     "text": [
      "Enter the length of the rectangle:  68\n",
      "Enter the width of the rectangle:  79\n"
     ]
    },
    {
     "name": "stdout",
     "output_type": "stream",
     "text": [
      "The area of the rectangle with length 68.0 and width 79.0 is: 5372.0\n"
     ]
    }
   ],
   "source": [
    "length = float(input(\"Enter the length of the rectangle: \"))\n",
    "width = float(input(\"Enter the width of the rectangle: \"))\n",
    "\n",
    "# Calculate the area of the rectangle\n",
    "area = length * width\n",
    "\n",
    "# Display the result\n",
    "print(f\"The area of the rectangle with length {length} and width {width} is: {area}\")"
   ]
  },
  {
   "cell_type": "code",
   "execution_count": 4,
   "id": "58a8ef9c-c12f-49b8-af02-5511de00fba9",
   "metadata": {},
   "outputs": [
    {
     "name": "stdin",
     "output_type": "stream",
     "text": [
      "Enter the temperature in Celsius:  30\n"
     ]
    },
    {
     "name": "stdout",
     "output_type": "stream",
     "text": [
      "30.0 degrees Celsius is equal to 86.0 degrees Fahrenheit\n"
     ]
    }
   ],
   "source": [
    "#  Get user input for temperature in Celsius\n",
    "celsius = float(input(\"Enter the temperature in Celsius: \"))\n",
    "\n",
    "#  Convert Celsius to Fahrenheit , this is formula \n",
    "fahrenheit = (celsius * 9/5) + 32\n",
    "\n",
    "print(f\"{celsius} degrees Celsius is equal to {fahrenheit} degrees Fahrenheit\")"
   ]
  },
  {
   "cell_type": "raw",
   "id": "73a042f0-7bf7-43ee-86ea-5a093fc1a4f9",
   "metadata": {},
   "source": [
    "TOPIC: String Based Questions"
   ]
  },
  {
   "cell_type": "code",
   "execution_count": 5,
   "id": "21374633-f508-45f4-9ff4-b2d40c61d108",
   "metadata": {},
   "outputs": [
    {
     "name": "stdin",
     "output_type": "stream",
     "text": [
      "Enter a string:  Soumya patil\n"
     ]
    },
    {
     "name": "stdout",
     "output_type": "stream",
     "text": [
      "The length of the string is: 12\n"
     ]
    }
   ],
   "source": [
    "#  user input for a string\n",
    "user_input = input(\"Enter a string: \")\n",
    "\n",
    "# using len function to calculate length of string and print the result \n",
    "length = len(user_input)\n",
    "print(f\"The length of the string is: {length}\")"
   ]
  },
  {
   "cell_type": "code",
   "execution_count": 7,
   "id": "6139fe57-715b-4fce-8075-3328b5a7b25a",
   "metadata": {},
   "outputs": [
    {
     "name": "stdin",
     "output_type": "stream",
     "text": [
      "Enter a sentence:  hii this is soumya patil\n"
     ]
    },
    {
     "name": "stdout",
     "output_type": "stream",
     "text": [
      "The number of vowels in the sentence is: 9\n"
     ]
    }
   ],
   "source": [
    "sent = input(\"Enter a sentence: \")\n",
    "\n",
    "# Initialize count to 0\n",
    "vowel_count = 0\n",
    "\n",
    "#  Loop through each character in the sentence and count vowels\n",
    "for char in sent:\n",
    "    if char.lower() in \"aeiou\":\n",
    "        vowel_count += 1\n",
    "\n",
    "print(f\"The number of vowels in the sentence is: {vowel_count}\")"
   ]
  },
  {
   "cell_type": "code",
   "execution_count": 9,
   "id": "75d3f51f-a479-4e6f-ad65-7afe898c680b",
   "metadata": {},
   "outputs": [
    {
     "name": "stdin",
     "output_type": "stream",
     "text": [
      "Enter a string:  soumya \n"
     ]
    },
    {
     "name": "stdout",
     "output_type": "stream",
     "text": [
      "Reversed string:  aymuos\n"
     ]
    }
   ],
   "source": [
    "#  Get user input for a string\n",
    "string  = input(\"Enter a string: \")\n",
    "\n",
    "# Reverse the string using string slicing and print the result \n",
    "reverse = string[::-1]\n",
    "print(\"Reversed string:\", reverse)"
   ]
  },
  {
   "cell_type": "code",
   "execution_count": 11,
   "id": "eea22258-69ab-4252-b3e5-263919859929",
   "metadata": {},
   "outputs": [
    {
     "name": "stdin",
     "output_type": "stream",
     "text": [
      "enter a string: soumya \n"
     ]
    },
    {
     "name": "stdout",
     "output_type": "stream",
     "text": [
      " aymuos is not Palindrome\n"
     ]
    }
   ],
   "source": [
    "# function which return reverse of a string\n",
    " \n",
    "input_string = input(\"enter a string:\")\n",
    "rev = input_string[::-1]\n",
    "\n",
    "if input_string == rev:\n",
    "    print(rev + \" is Palindrome\")\n",
    "else:\n",
    "    print(rev + \" is not Palindrome\")"
   ]
  },
  {
   "cell_type": "code",
   "execution_count": null,
   "id": "7be09f03-f39d-4a35-a60d-a65ccb8e13fd",
   "metadata": {},
   "outputs": [],
   "source": []
  }
 ],
 "metadata": {
  "kernelspec": {
   "display_name": "Python 3 (ipykernel)",
   "language": "python",
   "name": "python3"
  },
  "language_info": {
   "codemirror_mode": {
    "name": "ipython",
    "version": 3
   },
   "file_extension": ".py",
   "mimetype": "text/x-python",
   "name": "python",
   "nbconvert_exporter": "python",
   "pygments_lexer": "ipython3",
   "version": "3.10.8"
  }
 },
 "nbformat": 4,
 "nbformat_minor": 5
}
